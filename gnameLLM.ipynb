{
 "cells": [
  {
   "cell_type": "code",
   "execution_count": 1,
   "id": "2bd3de22-e11a-46d3-bebf-64a5130b463d",
   "metadata": {},
   "outputs": [
    {
     "name": "stderr",
     "output_type": "stream",
     "text": [
      "C:\\Users\\acer\\AppData\\Local\\Temp\\ipykernel_10736\\3615890850.py:4: DtypeWarning: Columns (4,6,31,33,61,62,63,76,79,90,92,94,96,114,115,121) have mixed types. Specify dtype option on import or set low_memory=False.\n",
      "  df1 = pd.read_csv(\"globalterrorismdb_0718dist.csv\", encoding='ISO-8859-1')\n"
     ]
    }
   ],
   "source": [
    "import pandas as pd\n",
    "import seaborn as sns\n",
    "import matplotlib.pyplot as plt\n",
    "df1 = pd.read_csv(\"globalterrorismdb_0718dist.csv\", encoding='ISO-8859-1')\n"
   ]
  },
  {
   "cell_type": "code",
   "execution_count": 2,
   "id": "0af7f459-d1fa-40c2-ac46-32a2d567e5f6",
   "metadata": {},
   "outputs": [],
   "source": [
    "merged_df1 = df1[df1['iyear'].isin([2014,2015,2016,2017])]"
   ]
  },
  {
   "cell_type": "code",
   "execution_count": 3,
   "id": "28f8a7a2-dd9d-451f-bff2-e797e1ce249e",
   "metadata": {},
   "outputs": [],
   "source": [
    "df= merged_df1.groupby(['iday', 'imonth','iyear', 'country_txt', 'region_txt', \n",
    "    'provstate', 'targtype1_txt', 'targsubtype1_txt',\n",
    "    'corp1',  'weaptype1_txt', 'weapsubtype1_txt','gname' , 'claimmode_txt']).size().reset_index()"
   ]
  },
  {
   "cell_type": "code",
   "execution_count": 45,
   "id": "e1bb383f-fade-48a8-b135-bea353353ec5",
   "metadata": {},
   "outputs": [],
   "source": [
    "df2= merged_df1.groupby(['iday', 'imonth','iyear', 'country_txt', 'region_txt', \n",
    "    'provstate', 'targtype1_txt', 'targsubtype1_txt',\n",
    "    'corp1',  'weaptype1_txt', 'weapsubtype1_txt','gname' , 'claimmode_txt']).size().reset_index()"
   ]
  },
  {
   "cell_type": "code",
   "execution_count": 4,
   "id": "6ad031ee-3c49-4f8e-bacd-a52289e3b45b",
   "metadata": {},
   "outputs": [],
   "source": [
    "df.columns = df.columns.astype(str)"
   ]
  },
  {
   "cell_type": "code",
   "execution_count": 5,
   "id": "14c1def1-5ed0-4899-8af8-297ef3466d89",
   "metadata": {},
   "outputs": [
    {
     "data": {
      "text/plain": [
       "gname\n",
       "Other                                             2243\n",
       "Islamic State of Iraq and the Levant (ISIL)       1749\n",
       "Taliban                                           1460\n",
       "Al-Shabaab                                         891\n",
       "Tehrik-i-Taliban Pakistan (TTP)                    333\n",
       "New People's Army (NPA)                            253\n",
       "Sinai Province of the Islamic State                244\n",
       "Baloch Republican Army (BRA)                       187\n",
       "Khorasan Chapter of the Islamic State              177\n",
       "Baloch Liberation Front (BLF)                      138\n",
       "Al-Qaida in the Arabian Peninsula (AQAP)           131\n",
       "Communist Party of India - Maoist (CPI-Maoist)     117\n",
       "Maoists                                            113\n",
       "Unknown                                            108\n",
       "Houthi extremists (Ansar Allah)                    104\n",
       "Al-Nusrah Front                                     80\n",
       "Boko Haram                                          78\n",
       "Baloch Liberation Army (BLA)                        73\n",
       "Tripoli Province of the Islamic State               69\n",
       "Kurdistan Workers' Party (PKK)                      65\n",
       "Donetsk People's Republic                           61\n",
       "Barqa Province of the Islamic State                 54\n",
       "Bangsamoro Islamic Freedom Movement (BIFM)          53\n",
       "Name: count, dtype: int64"
      ]
     },
     "execution_count": 5,
     "metadata": {},
     "output_type": "execute_result"
    }
   ],
   "source": [
    "value_counts = df['gname'].value_counts()\n",
    "classes_to_keep = value_counts[value_counts > 0].index\n",
    "\n",
    "df = df[df['gname'].isin(classes_to_keep)]\n",
    "\n",
    "threshold = 50\n",
    "rare_classes = value_counts[value_counts < threshold].index\n",
    "\n",
    "df['gname'] = df['gname'].replace(rare_classes, 'Other')\n",
    "\n",
    "df['gname'].value_counts()\n"
   ]
  },
  {
   "cell_type": "code",
   "execution_count": 46,
   "id": "74337362-a155-4f74-8cbb-aa5572e4279b",
   "metadata": {},
   "outputs": [
    {
     "data": {
      "text/plain": [
       "gname\n",
       "Other                                             2243\n",
       "Islamic State of Iraq and the Levant (ISIL)       1749\n",
       "Taliban                                           1460\n",
       "Al-Shabaab                                         891\n",
       "Tehrik-i-Taliban Pakistan (TTP)                    333\n",
       "New People's Army (NPA)                            253\n",
       "Sinai Province of the Islamic State                244\n",
       "Baloch Republican Army (BRA)                       187\n",
       "Khorasan Chapter of the Islamic State              177\n",
       "Baloch Liberation Front (BLF)                      138\n",
       "Al-Qaida in the Arabian Peninsula (AQAP)           131\n",
       "Communist Party of India - Maoist (CPI-Maoist)     117\n",
       "Maoists                                            113\n",
       "Unknown                                            108\n",
       "Houthi extremists (Ansar Allah)                    104\n",
       "Al-Nusrah Front                                     80\n",
       "Boko Haram                                          78\n",
       "Baloch Liberation Army (BLA)                        73\n",
       "Tripoli Province of the Islamic State               69\n",
       "Kurdistan Workers' Party (PKK)                      65\n",
       "Donetsk People's Republic                           61\n",
       "Barqa Province of the Islamic State                 54\n",
       "Bangsamoro Islamic Freedom Movement (BIFM)          53\n",
       "Name: count, dtype: int64"
      ]
     },
     "execution_count": 46,
     "metadata": {},
     "output_type": "execute_result"
    }
   ],
   "source": [
    "value_counts = df2['gname'].value_counts()\n",
    "classes_to_keep = value_counts[value_counts > 0].index\n",
    "\n",
    "df2 = df2[df2['gname'].isin(classes_to_keep)]\n",
    "\n",
    "threshold = 50\n",
    "rare_classes = value_counts[value_counts < threshold].index\n",
    "\n",
    "df2['gname'] = df2['gname'].replace(rare_classes, 'Other')\n",
    "\n",
    "df2['gname'].value_counts()"
   ]
  },
  {
   "cell_type": "code",
   "execution_count": 6,
   "id": "e5341f6f-ce49-4da2-8819-d74e6d432614",
   "metadata": {},
   "outputs": [],
   "source": [
    "numerical_columns = df.select_dtypes(include=['int64', 'float64']).columns.tolist()\n",
    "categorical_columns = df.select_dtypes(include=['object', 'category']).columns.tolist()"
   ]
  },
  {
   "cell_type": "code",
   "execution_count": 7,
   "id": "8cfc25ed-1733-472e-9b16-6b2a5968f90b",
   "metadata": {},
   "outputs": [
    {
     "name": "stdout",
     "output_type": "stream",
     "text": [
      "Processing column: country_txt\n",
      "Processing column: region_txt\n",
      "Processing column: provstate\n",
      "Processing column: targtype1_txt\n",
      "Processing column: targsubtype1_txt\n",
      "Processing column: corp1\n",
      "Processing column: weaptype1_txt\n",
      "Processing column: weapsubtype1_txt\n",
      "Processing column: gname\n",
      "Processing column: claimmode_txt\n"
     ]
    },
    {
     "data": {
      "text/html": [
       "<div>\n",
       "<style scoped>\n",
       "    .dataframe tbody tr th:only-of-type {\n",
       "        vertical-align: middle;\n",
       "    }\n",
       "\n",
       "    .dataframe tbody tr th {\n",
       "        vertical-align: top;\n",
       "    }\n",
       "\n",
       "    .dataframe thead th {\n",
       "        text-align: right;\n",
       "    }\n",
       "</style>\n",
       "<table border=\"1\" class=\"dataframe\">\n",
       "  <thead>\n",
       "    <tr style=\"text-align: right;\">\n",
       "      <th></th>\n",
       "      <th>iday</th>\n",
       "      <th>imonth</th>\n",
       "      <th>iyear</th>\n",
       "      <th>0</th>\n",
       "      <th>country_txt_embedding_0</th>\n",
       "      <th>country_txt_embedding_1</th>\n",
       "      <th>country_txt_embedding_2</th>\n",
       "      <th>country_txt_embedding_3</th>\n",
       "      <th>country_txt_embedding_4</th>\n",
       "      <th>country_txt_embedding_5</th>\n",
       "      <th>...</th>\n",
       "      <th>claimmode_txt_embedding_40</th>\n",
       "      <th>claimmode_txt_embedding_41</th>\n",
       "      <th>claimmode_txt_embedding_42</th>\n",
       "      <th>claimmode_txt_embedding_43</th>\n",
       "      <th>claimmode_txt_embedding_44</th>\n",
       "      <th>claimmode_txt_embedding_45</th>\n",
       "      <th>claimmode_txt_embedding_46</th>\n",
       "      <th>claimmode_txt_embedding_47</th>\n",
       "      <th>claimmode_txt_embedding_48</th>\n",
       "      <th>claimmode_txt_embedding_49</th>\n",
       "    </tr>\n",
       "  </thead>\n",
       "  <tbody>\n",
       "    <tr>\n",
       "      <th>0</th>\n",
       "      <td>1</td>\n",
       "      <td>1</td>\n",
       "      <td>2014</td>\n",
       "      <td>1</td>\n",
       "      <td>0.630217</td>\n",
       "      <td>-2.276473</td>\n",
       "      <td>-1.391857</td>\n",
       "      <td>1.380639</td>\n",
       "      <td>-0.721671</td>\n",
       "      <td>-1.029484</td>\n",
       "      <td>...</td>\n",
       "      <td>9.591287e-07</td>\n",
       "      <td>0.000002</td>\n",
       "      <td>1.049153e-07</td>\n",
       "      <td>-4.059460e-07</td>\n",
       "      <td>7.787272e-08</td>\n",
       "      <td>9.558599e-07</td>\n",
       "      <td>-8.829945e-07</td>\n",
       "      <td>3.457248e-07</td>\n",
       "      <td>-2.050922e-07</td>\n",
       "      <td>2.183359e-07</td>\n",
       "    </tr>\n",
       "    <tr>\n",
       "      <th>1</th>\n",
       "      <td>1</td>\n",
       "      <td>1</td>\n",
       "      <td>2014</td>\n",
       "      <td>1</td>\n",
       "      <td>0.630208</td>\n",
       "      <td>-2.276454</td>\n",
       "      <td>-1.391824</td>\n",
       "      <td>1.380682</td>\n",
       "      <td>-0.721680</td>\n",
       "      <td>-1.029451</td>\n",
       "      <td>...</td>\n",
       "      <td>-4.731028e-07</td>\n",
       "      <td>-0.000001</td>\n",
       "      <td>-1.245703e-06</td>\n",
       "      <td>-3.624268e-07</td>\n",
       "      <td>5.011415e-06</td>\n",
       "      <td>5.779097e-06</td>\n",
       "      <td>-7.258962e-06</td>\n",
       "      <td>2.640680e-06</td>\n",
       "      <td>-1.691649e-06</td>\n",
       "      <td>-3.441137e-06</td>\n",
       "    </tr>\n",
       "    <tr>\n",
       "      <th>2</th>\n",
       "      <td>1</td>\n",
       "      <td>1</td>\n",
       "      <td>2014</td>\n",
       "      <td>2</td>\n",
       "      <td>0.502387</td>\n",
       "      <td>0.086141</td>\n",
       "      <td>0.736830</td>\n",
       "      <td>-0.726387</td>\n",
       "      <td>2.238811</td>\n",
       "      <td>-0.601764</td>\n",
       "      <td>...</td>\n",
       "      <td>-2.256920e-06</td>\n",
       "      <td>0.000004</td>\n",
       "      <td>-1.146405e-06</td>\n",
       "      <td>-2.511584e-06</td>\n",
       "      <td>2.732902e-06</td>\n",
       "      <td>2.796937e-06</td>\n",
       "      <td>-7.874209e-06</td>\n",
       "      <td>-7.378201e-08</td>\n",
       "      <td>-3.250088e-06</td>\n",
       "      <td>-3.585386e-07</td>\n",
       "    </tr>\n",
       "    <tr>\n",
       "      <th>3</th>\n",
       "      <td>1</td>\n",
       "      <td>1</td>\n",
       "      <td>2014</td>\n",
       "      <td>1</td>\n",
       "      <td>0.502387</td>\n",
       "      <td>0.086141</td>\n",
       "      <td>0.736850</td>\n",
       "      <td>-0.726369</td>\n",
       "      <td>2.238787</td>\n",
       "      <td>-0.601756</td>\n",
       "      <td>...</td>\n",
       "      <td>4.120844e-07</td>\n",
       "      <td>-0.000004</td>\n",
       "      <td>2.979288e-06</td>\n",
       "      <td>-2.544321e-06</td>\n",
       "      <td>-2.485128e-06</td>\n",
       "      <td>8.549834e-06</td>\n",
       "      <td>2.581929e-06</td>\n",
       "      <td>5.978625e-07</td>\n",
       "      <td>2.004250e-06</td>\n",
       "      <td>-2.923756e-06</td>\n",
       "    </tr>\n",
       "    <tr>\n",
       "      <th>4</th>\n",
       "      <td>1</td>\n",
       "      <td>1</td>\n",
       "      <td>2015</td>\n",
       "      <td>1</td>\n",
       "      <td>-0.806723</td>\n",
       "      <td>2.077236</td>\n",
       "      <td>-1.493703</td>\n",
       "      <td>1.007914</td>\n",
       "      <td>0.531483</td>\n",
       "      <td>0.396596</td>\n",
       "      <td>...</td>\n",
       "      <td>9.509242e-08</td>\n",
       "      <td>0.000001</td>\n",
       "      <td>2.807726e-06</td>\n",
       "      <td>6.272170e-06</td>\n",
       "      <td>1.567720e-06</td>\n",
       "      <td>-7.541312e-06</td>\n",
       "      <td>7.278508e-06</td>\n",
       "      <td>-3.703475e-06</td>\n",
       "      <td>-1.242381e-06</td>\n",
       "      <td>2.554112e-06</td>\n",
       "    </tr>\n",
       "  </tbody>\n",
       "</table>\n",
       "<p>5 rows × 504 columns</p>\n",
       "</div>"
      ],
      "text/plain": [
       "   iday  imonth  iyear  0  country_txt_embedding_0  country_txt_embedding_1  \\\n",
       "0     1       1   2014  1                 0.630217                -2.276473   \n",
       "1     1       1   2014  1                 0.630208                -2.276454   \n",
       "2     1       1   2014  2                 0.502387                 0.086141   \n",
       "3     1       1   2014  1                 0.502387                 0.086141   \n",
       "4     1       1   2015  1                -0.806723                 2.077236   \n",
       "\n",
       "   country_txt_embedding_2  country_txt_embedding_3  country_txt_embedding_4  \\\n",
       "0                -1.391857                 1.380639                -0.721671   \n",
       "1                -1.391824                 1.380682                -0.721680   \n",
       "2                 0.736830                -0.726387                 2.238811   \n",
       "3                 0.736850                -0.726369                 2.238787   \n",
       "4                -1.493703                 1.007914                 0.531483   \n",
       "\n",
       "   country_txt_embedding_5  ...  claimmode_txt_embedding_40  \\\n",
       "0                -1.029484  ...                9.591287e-07   \n",
       "1                -1.029451  ...               -4.731028e-07   \n",
       "2                -0.601764  ...               -2.256920e-06   \n",
       "3                -0.601756  ...                4.120844e-07   \n",
       "4                 0.396596  ...                9.509242e-08   \n",
       "\n",
       "   claimmode_txt_embedding_41  claimmode_txt_embedding_42  \\\n",
       "0                    0.000002                1.049153e-07   \n",
       "1                   -0.000001               -1.245703e-06   \n",
       "2                    0.000004               -1.146405e-06   \n",
       "3                   -0.000004                2.979288e-06   \n",
       "4                    0.000001                2.807726e-06   \n",
       "\n",
       "   claimmode_txt_embedding_43  claimmode_txt_embedding_44  \\\n",
       "0               -4.059460e-07                7.787272e-08   \n",
       "1               -3.624268e-07                5.011415e-06   \n",
       "2               -2.511584e-06                2.732902e-06   \n",
       "3               -2.544321e-06               -2.485128e-06   \n",
       "4                6.272170e-06                1.567720e-06   \n",
       "\n",
       "   claimmode_txt_embedding_45  claimmode_txt_embedding_46  \\\n",
       "0                9.558599e-07               -8.829945e-07   \n",
       "1                5.779097e-06               -7.258962e-06   \n",
       "2                2.796937e-06               -7.874209e-06   \n",
       "3                8.549834e-06                2.581929e-06   \n",
       "4               -7.541312e-06                7.278508e-06   \n",
       "\n",
       "   claimmode_txt_embedding_47  claimmode_txt_embedding_48  \\\n",
       "0                3.457248e-07               -2.050922e-07   \n",
       "1                2.640680e-06               -1.691649e-06   \n",
       "2               -7.378201e-08               -3.250088e-06   \n",
       "3                5.978625e-07                2.004250e-06   \n",
       "4               -3.703475e-06               -1.242381e-06   \n",
       "\n",
       "   claimmode_txt_embedding_49  \n",
       "0                2.183359e-07  \n",
       "1               -3.441137e-06  \n",
       "2               -3.585386e-07  \n",
       "3               -2.923756e-06  \n",
       "4                2.554112e-06  \n",
       "\n",
       "[5 rows x 504 columns]"
      ]
     },
     "execution_count": 7,
     "metadata": {},
     "output_type": "execute_result"
    }
   ],
   "source": [
    "from transformers import BertTokenizer, BertModel\n",
    "import torch\n",
    "import pandas as pd\n",
    "import numpy as np\n",
    "from sklearn.decomposition import PCA\n",
    "\n",
    "tokenizer = BertTokenizer.from_pretrained('bert-base-uncased')\n",
    "model = BertModel.from_pretrained('bert-base-uncased')\n",
    "\n",
    "def get_embeddings(texts):\n",
    "    tokens = tokenizer(texts, padding=True, truncation=True, return_tensors=\"pt\")\n",
    "    with torch.no_grad():\n",
    "        embeddings = model(**tokens).last_hidden_state.mean(dim=1)\n",
    "    return embeddings.numpy()\n",
    "\n",
    "def process_in_batches(texts, batch_size=32):\n",
    "    embeddings_list = []\n",
    "    for i in range(0, len(texts), batch_size):\n",
    "        batch_texts = texts[i:i + batch_size]\n",
    "        batch_embeddings = get_embeddings(batch_texts)\n",
    "        embeddings_list.append(batch_embeddings)\n",
    "    return np.vstack(embeddings_list)\n",
    "\n",
    "def apply_pca(embeddings, n_components=50):\n",
    "    pca = PCA(n_components=n_components)\n",
    "    reduced_embeddings = pca.fit_transform(embeddings)\n",
    "    return reduced_embeddings,pca\n",
    "\n",
    "for col in categorical_columns:\n",
    "    print(f\"Processing column: {col}\")\n",
    "    text_data = df[col].astype(str).tolist()  \n",
    "    embeddings = process_in_batches(text_data, batch_size=32)\n",
    "    \n",
    "    reduced_embeddings,pca = apply_pca(embeddings, n_components=50)  \n",
    "\n",
    "    embeddings_df = pd.DataFrame(reduced_embeddings, columns=[f'{col}_embedding_{i}' for i in range(reduced_embeddings.shape[1])])\n",
    "    df = pd.concat([df, embeddings_df], axis=1)\n",
    "\n",
    "\n",
    "df.drop(columns=categorical_columns, inplace=True)\n",
    "\n",
    "df.head()\n"
   ]
  },
  {
   "cell_type": "code",
   "execution_count": 8,
   "id": "a56440e9-0114-4909-bd76-2217b8b7bed1",
   "metadata": {},
   "outputs": [],
   "source": [
    "train = df[df['iyear'].isin([2014,2015,2016])]\n",
    "test = df[df['iyear'].isin([2017])]"
   ]
  },
  {
   "cell_type": "code",
   "execution_count": 9,
   "id": "7d29a9c5-c099-4cd0-8e42-178f4ee3a3df",
   "metadata": {},
   "outputs": [],
   "source": [
    "gname_pca_columns = [f'gname_embedding_{i}' for i in range(50)]\n",
    "\n",
    "y_train = train[gname_pca_columns]\n",
    "x_train = train.drop(columns=gname_pca_columns)\n",
    "\n",
    "y_test = test[gname_pca_columns]\n",
    "x_test = test.drop(columns=gname_pca_columns)"
   ]
  },
  {
   "cell_type": "code",
   "execution_count": 10,
   "id": "adb91026-973a-4bb7-9c61-3aed9c6c6bb0",
   "metadata": {},
   "outputs": [],
   "source": [
    "x_train.columns = x_train.columns.astype(str)\n",
    "x_test.columns = x_test.columns.astype(str)"
   ]
  },
  {
   "cell_type": "code",
   "execution_count": 11,
   "id": "07033b19-a4b2-47d8-9c97-41c7de99050b",
   "metadata": {},
   "outputs": [],
   "source": [
    "from sklearn.preprocessing import StandardScaler\n",
    "scaler = StandardScaler()\n",
    "x_train = scaler.fit_transform(x_train)\n",
    "x_test = scaler.transform(x_test)"
   ]
  },
  {
   "cell_type": "code",
   "execution_count": 12,
   "id": "39fd74f8-5cd1-4fe2-982a-a56dd9482093",
   "metadata": {},
   "outputs": [
    {
     "name": "stderr",
     "output_type": "stream",
     "text": [
      "C:\\Program Files\\Python311\\Lib\\site-packages\\sklearn\\cluster\\_kmeans.py:1416: FutureWarning: The default value of `n_init` will change from 10 to 'auto' in 1.4. Set the value of `n_init` explicitly to suppress the warning\n",
      "  super()._check_params_vs_input(X, default_n_init=10)\n"
     ]
    }
   ],
   "source": [
    "from sklearn.ensemble import RandomForestClassifier\n",
    "from imblearn.over_sampling import SMOTE, RandomOverSampler\n",
    "import numpy as np\n",
    "from sklearn.cluster import KMeans\n",
    "\n",
    "kmeans = KMeans(n_clusters=10, random_state=42) \n",
    "y_train_clustered = kmeans.fit_predict(y_train)\n",
    "y_test_clustered = kmeans.predict(y_test)\n"
   ]
  },
  {
   "cell_type": "code",
   "execution_count": 13,
   "id": "c8f97f34-9909-45a3-9f60-217c01bb79b9",
   "metadata": {},
   "outputs": [
    {
     "data": {
      "text/html": [
       "<style>#sk-container-id-1 {color: black;}#sk-container-id-1 pre{padding: 0;}#sk-container-id-1 div.sk-toggleable {background-color: white;}#sk-container-id-1 label.sk-toggleable__label {cursor: pointer;display: block;width: 100%;margin-bottom: 0;padding: 0.3em;box-sizing: border-box;text-align: center;}#sk-container-id-1 label.sk-toggleable__label-arrow:before {content: \"▸\";float: left;margin-right: 0.25em;color: #696969;}#sk-container-id-1 label.sk-toggleable__label-arrow:hover:before {color: black;}#sk-container-id-1 div.sk-estimator:hover label.sk-toggleable__label-arrow:before {color: black;}#sk-container-id-1 div.sk-toggleable__content {max-height: 0;max-width: 0;overflow: hidden;text-align: left;background-color: #f0f8ff;}#sk-container-id-1 div.sk-toggleable__content pre {margin: 0.2em;color: black;border-radius: 0.25em;background-color: #f0f8ff;}#sk-container-id-1 input.sk-toggleable__control:checked~div.sk-toggleable__content {max-height: 200px;max-width: 100%;overflow: auto;}#sk-container-id-1 input.sk-toggleable__control:checked~label.sk-toggleable__label-arrow:before {content: \"▾\";}#sk-container-id-1 div.sk-estimator input.sk-toggleable__control:checked~label.sk-toggleable__label {background-color: #d4ebff;}#sk-container-id-1 div.sk-label input.sk-toggleable__control:checked~label.sk-toggleable__label {background-color: #d4ebff;}#sk-container-id-1 input.sk-hidden--visually {border: 0;clip: rect(1px 1px 1px 1px);clip: rect(1px, 1px, 1px, 1px);height: 1px;margin: -1px;overflow: hidden;padding: 0;position: absolute;width: 1px;}#sk-container-id-1 div.sk-estimator {font-family: monospace;background-color: #f0f8ff;border: 1px dotted black;border-radius: 0.25em;box-sizing: border-box;margin-bottom: 0.5em;}#sk-container-id-1 div.sk-estimator:hover {background-color: #d4ebff;}#sk-container-id-1 div.sk-parallel-item::after {content: \"\";width: 100%;border-bottom: 1px solid gray;flex-grow: 1;}#sk-container-id-1 div.sk-label:hover label.sk-toggleable__label {background-color: #d4ebff;}#sk-container-id-1 div.sk-serial::before {content: \"\";position: absolute;border-left: 1px solid gray;box-sizing: border-box;top: 0;bottom: 0;left: 50%;z-index: 0;}#sk-container-id-1 div.sk-serial {display: flex;flex-direction: column;align-items: center;background-color: white;padding-right: 0.2em;padding-left: 0.2em;position: relative;}#sk-container-id-1 div.sk-item {position: relative;z-index: 1;}#sk-container-id-1 div.sk-parallel {display: flex;align-items: stretch;justify-content: center;background-color: white;position: relative;}#sk-container-id-1 div.sk-item::before, #sk-container-id-1 div.sk-parallel-item::before {content: \"\";position: absolute;border-left: 1px solid gray;box-sizing: border-box;top: 0;bottom: 0;left: 50%;z-index: -1;}#sk-container-id-1 div.sk-parallel-item {display: flex;flex-direction: column;z-index: 1;position: relative;background-color: white;}#sk-container-id-1 div.sk-parallel-item:first-child::after {align-self: flex-end;width: 50%;}#sk-container-id-1 div.sk-parallel-item:last-child::after {align-self: flex-start;width: 50%;}#sk-container-id-1 div.sk-parallel-item:only-child::after {width: 0;}#sk-container-id-1 div.sk-dashed-wrapped {border: 1px dashed gray;margin: 0 0.4em 0.5em 0.4em;box-sizing: border-box;padding-bottom: 0.4em;background-color: white;}#sk-container-id-1 div.sk-label label {font-family: monospace;font-weight: bold;display: inline-block;line-height: 1.2em;}#sk-container-id-1 div.sk-label-container {text-align: center;}#sk-container-id-1 div.sk-container {/* jupyter's `normalize.less` sets `[hidden] { display: none; }` but bootstrap.min.css set `[hidden] { display: none !important; }` so we also need the `!important` here to be able to override the default hidden behavior on the sphinx rendered scikit-learn.org. See: https://github.com/scikit-learn/scikit-learn/issues/21755 */display: inline-block !important;position: relative;}#sk-container-id-1 div.sk-text-repr-fallback {display: none;}</style><div id=\"sk-container-id-1\" class=\"sk-top-container\"><div class=\"sk-text-repr-fallback\"><pre>RandomForestClassifier(bootstrap=False, class_weight=&#x27;balanced&#x27;,\n",
       "                       n_estimators=200, random_state=42)</pre><b>In a Jupyter environment, please rerun this cell to show the HTML representation or trust the notebook. <br />On GitHub, the HTML representation is unable to render, please try loading this page with nbviewer.org.</b></div><div class=\"sk-container\" hidden><div class=\"sk-item\"><div class=\"sk-estimator sk-toggleable\"><input class=\"sk-toggleable__control sk-hidden--visually\" id=\"sk-estimator-id-1\" type=\"checkbox\" checked><label for=\"sk-estimator-id-1\" class=\"sk-toggleable__label sk-toggleable__label-arrow\">RandomForestClassifier</label><div class=\"sk-toggleable__content\"><pre>RandomForestClassifier(bootstrap=False, class_weight=&#x27;balanced&#x27;,\n",
       "                       n_estimators=200, random_state=42)</pre></div></div></div></div></div>"
      ],
      "text/plain": [
       "RandomForestClassifier(bootstrap=False, class_weight='balanced',\n",
       "                       n_estimators=200, random_state=42)"
      ]
     },
     "execution_count": 13,
     "metadata": {},
     "output_type": "execute_result"
    }
   ],
   "source": [
    "r = RandomForestClassifier(n_estimators=200 ,bootstrap =False , max_depth= None ,random_state=42, class_weight= 'balanced')\n",
    "r.fit(x_train,y_train_clustered)"
   ]
  },
  {
   "cell_type": "code",
   "execution_count": 14,
   "id": "c993f8d4-c8cd-4210-be7b-5d7392acf410",
   "metadata": {},
   "outputs": [],
   "source": [
    "y_pred = r.predict(x_test)"
   ]
  },
  {
   "cell_type": "code",
   "execution_count": 15,
   "id": "0f313ad0-da15-4426-bc84-a3684f36ec57",
   "metadata": {},
   "outputs": [
    {
     "name": "stdout",
     "output_type": "stream",
     "text": [
      "Accuracy: 0.8730544747081712\n",
      "Confusion Matrix:\n",
      " [[440  21   0   1   0   2   0   0   6   0]\n",
      " [ 15 422   7  11   8   4   1  10   6   3]\n",
      " [  0   1 272   0   0   0   0   1   0   5]\n",
      " [  2   0   0 314   0   0   0   0   0   0]\n",
      " [  0  26  47   0  95   4   0  10   0   0]\n",
      " [  2  10   0   0   0  43   0   3   0   0]\n",
      " [  0   6   0   0   0   0  41   0   0   0]\n",
      " [  0  16   1   0   1   2   0  58   0   0]\n",
      " [  0   5   0   0   0   4   0   0  96   0]\n",
      " [  0   1  19   0   0   0   0   0   0  14]]\n",
      "Classification Report:\n",
      "               precision    recall  f1-score   support\n",
      "\n",
      "           0       0.96      0.94      0.95       470\n",
      "           1       0.83      0.87      0.85       487\n",
      "           2       0.79      0.97      0.87       279\n",
      "           3       0.96      0.99      0.98       316\n",
      "           4       0.91      0.52      0.66       182\n",
      "           5       0.73      0.74      0.74        58\n",
      "           6       0.98      0.87      0.92        47\n",
      "           7       0.71      0.74      0.72        78\n",
      "           8       0.89      0.91      0.90       105\n",
      "           9       0.64      0.41      0.50        34\n",
      "\n",
      "    accuracy                           0.87      2056\n",
      "   macro avg       0.84      0.80      0.81      2056\n",
      "weighted avg       0.88      0.87      0.87      2056\n",
      "\n"
     ]
    }
   ],
   "source": [
    "from sklearn.metrics import classification_report, accuracy_score, confusion_matrix\n",
    "print(\"Accuracy:\", accuracy_score(y_test_clustered, y_pred))\n",
    "print(\"Confusion Matrix:\\n\", confusion_matrix(y_test_clustered, y_pred))\n",
    "print(\"Classification Report:\\n\", classification_report(y_test_clustered, y_pred,zero_division=0))"
   ]
  },
  {
   "cell_type": "code",
   "execution_count": null,
   "id": "1bdd69d1-cfda-4437-a9f0-9988479d7552",
   "metadata": {},
   "outputs": [],
   "source": []
  },
  {
   "cell_type": "code",
   "execution_count": null,
   "id": "aed4d40d-6f2d-477b-aba1-13a45f4d821c",
   "metadata": {},
   "outputs": [],
   "source": []
  }
 ],
 "metadata": {
  "kernelspec": {
   "display_name": "Python 3 (ipykernel)",
   "language": "python",
   "name": "python3"
  },
  "language_info": {
   "codemirror_mode": {
    "name": "ipython",
    "version": 3
   },
   "file_extension": ".py",
   "mimetype": "text/x-python",
   "name": "python",
   "nbconvert_exporter": "python",
   "pygments_lexer": "ipython3",
   "version": "3.11.4"
  }
 },
 "nbformat": 4,
 "nbformat_minor": 5
}
